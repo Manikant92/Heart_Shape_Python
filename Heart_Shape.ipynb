{
 "cells": [
  {
   "cell_type": "code",
   "execution_count": 1,
   "metadata": {
    "collapsed": true
   },
   "outputs": [],
   "source": [
    "from termcolor import colored\n",
    "import emoji"
   ]
  },
  {
   "cell_type": "code",
   "execution_count": 2,
   "metadata": {},
   "outputs": [
    {
     "name": "stdout",
     "output_type": "stream",
     "text": [
      "Hey, will you be the INPUT to my life with YES! \n",
      "I will make your life colorful and add magic to it as OUTPUT till your last breath!\n",
      "I will give you memories and cherishable moments to live with!\n",
      "I will make your life easier too!\n",
      "Forget to tell about me, I am intelligent. You do not have to declare your emotions(input type) to me like you declare to others(languages).\n",
      "I am easier to learn! I am faster and now into everything. \n",
      "And I am growing fast too! \n",
      "People love me these days alot.\n",
      "You have two options: Yes or No.\n",
      "Take a minute to think before saying No. Coz you will be regretting for not entering in my life! :wink: \n",
      "\n",
      "If you love to enter in my life. Please enter Yes (Remember, I am senstive. Enter exactly as I mentioned):Yes\n",
      "Now enter your name. I will show you how much I am fond of you! : Python\n",
      "😘\n",
      "\u001b[31m                                                            \n",
      "                                                            \n",
      "                                                            \n",
      "                                                            \n",
      "                                                            \n",
      "                                                            \n",
      "                                                            \n",
      "                                                            \n",
      "                                                            \n",
      "                                                            \n",
      "                                                            \n",
      "                                                            \n",
      "                                                            \n",
      "                                                            \n",
      "                                                            \n",
      "                                                            \n",
      "                                                            \n",
      "                                                            \n",
      "                onPythonP           PythonPyt               \n",
      "            ythonPythonPython   honPythonPythonPy           \n",
      "          PythonPythonPythonPythonPythonPythonPytho         \n",
      "         PythonPythonPythonPythonPythonPythonPythonP        \n",
      "        PythonPythonPythonPythonPythonPythonPythonPyt       \n",
      "        ythonPythonPythonPythonPythonPythonPythonPyth       \n",
      "        thonPythonPythonPythonPythonPythonPythonPytho       \n",
      "        honPythonPythonPythonPythonPythonPythonPython       \n",
      "        onPythonPythonPythonPythonPythonPythonPythonP       \n",
      "        nPythonPythonPythonPythonPythonPythonPythonPy       \n",
      "         ythonPythonPythonPythonPythonPythonPythonPy        \n",
      "          honPythonPythonPythonPythonPythonPythonPy         \n",
      "          onPythonPythonPythonPythonPythonPythonPyt         \n",
      "            ythonPythonPythonPythonPythonPythonPy           \n",
      "             honPythonPythonPythonPythonPythonPy            \n",
      "              nPythonPythonPythonPythonPythonPy             \n",
      "                thonPythonPythonPythonPythonP               \n",
      "                  nPythonPythonPythonPython                 \n",
      "                    thonPythonPythonPytho                   \n",
      "                       PythonPythonPyt                      \n",
      "                          onPythonP                         \n",
      "                             tho                            \n",
      "                              o                             \n",
      "                                                            \n",
      "                                                            \n",
      "                                                            \n",
      "                                                            \n",
      "                                                            \n",
      "                                                            \n",
      "                                                            \n",
      "                                                            \n",
      "                                                            \n",
      "                                                            \n",
      "                                                            \n",
      "                                                            \n",
      "                                                            \n",
      "                                                            \n",
      "                                                            \n",
      "                                                            \n",
      "                                                            \n",
      "                                                            \n",
      "                                                            \u001b[0m\n"
     ]
    }
   ],
   "source": [
    "print('Hey, will you be the INPUT to my life with YES! \\nI will make your life colorful and add magic to it as OUTPUT till your last breath!')\n",
    "print('I will give you memories and cherishable moments to live with!')\n",
    "print('I will make your life easier too!')\n",
    "print('Forget to tell about me, I am intelligent. You do not have to declare your emotions(input type) to me like you declare to others(languages).')\n",
    "print('I am easier to learn! I am faster and now into everything. \\nAnd I am growing fast too! \\nPeople love me these days alot.')\n",
    "print('You have two options: Yes or No.')\n",
    "print(emoji.emojize('Take a minute to think before saying No. Coz you will be regretting for not entering in my life! :wink: \\n'))\n",
    "inp = input('If you love to enter in my life. Please enter Yes (Remember, I am senstive. Enter exactly as I mentioned):')\n",
    "\n",
    "if inp == 'Yes':\n",
    "    \n",
    "    name = input('Now enter your name. I will show you how much I am fond of you! : ')\n",
    "    heart= ('\\n'.join([''.join([(name[(x-y) % len(name)] \n",
    "                             if ((x*0.05)**2+(y*0.1)**2-1)**3-(x*0.05)**2*(y*0.1)**3 <= 0 else ' ') \n",
    "                            for x in range(-30, 30)]) for y in range(30, -30, -1)]))\n",
    "    print(emoji.emojize(':kissing_heart:',use_aliases=True))\n",
    "    print(colored(heart , 'red'))\n",
    "    \n",
    "elif inp == 'No':\n",
    "    print(emoji.emojize('I am Heart Broken :cry:',use_aliases=True))\n",
    "    \n",
    "else:\n",
    "    print(emoji.emojize('Sorry, I can not understand your Emotion. I told you I am sensitive(case-senstive), now I am unable understand your thoughts :confused:', use_aliases=True))\n",
    "          \n",
    "    \n"
   ]
  },
  {
   "cell_type": "code",
   "execution_count": null,
   "metadata": {
    "collapsed": true
   },
   "outputs": [],
   "source": []
  }
 ],
 "metadata": {
  "kernelspec": {
   "display_name": "Python 3",
   "language": "python",
   "name": "python3"
  },
  "language_info": {
   "codemirror_mode": {
    "name": "ipython",
    "version": 3
   },
   "file_extension": ".py",
   "mimetype": "text/x-python",
   "name": "python",
   "nbconvert_exporter": "python",
   "pygments_lexer": "ipython3",
   "version": "3.6.3"
  }
 },
 "nbformat": 4,
 "nbformat_minor": 2
}
